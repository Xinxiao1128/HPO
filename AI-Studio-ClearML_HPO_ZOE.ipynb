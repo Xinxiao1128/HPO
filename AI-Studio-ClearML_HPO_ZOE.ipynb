{
  "cells": [
    {
      "cell_type": "code",
      "id": "BRLZH1TCt7jLFhocvi2S5q9d",
      "metadata": {
        "tags": [],
        "id": "BRLZH1TCt7jLFhocvi2S5q9d",
        "colab": {
          "base_uri": "https://localhost:8080/"
        },
        "outputId": "6302acf8-7635-4d7e-8b7a-40870572d45e"
      },
      "source": [
        "# !git clone https://github.com/Jacoo-Zhao/AI-Studio-ClearML.git\n",
        "!git clone https://github.com/ZoeLinUTS/AI-Studio-ClearML.git"
      ],
      "execution_count": 50,
      "outputs": [
        {
          "output_type": "stream",
          "name": "stdout",
          "text": [
            "Cloning into 'AI-Studio-ClearML'...\n",
            "remote: Enumerating objects: 333, done.\u001b[K\n",
            "remote: Counting objects: 100% (113/113), done.\u001b[K\n",
            "remote: Compressing objects: 100% (60/60), done.\u001b[K\n",
            "remote: Total 333 (delta 68), reused 87 (delta 53), pack-reused 220 (from 1)\u001b[K\n",
            "Receiving objects: 100% (333/333), 169.64 KiB | 2.17 MiB/s, done.\n",
            "Resolving deltas: 100% (173/173), done.\n"
          ]
        }
      ]
    },
    {
      "cell_type": "code",
      "source": [
        "!pwd"
      ],
      "metadata": {
        "colab": {
          "base_uri": "https://localhost:8080/"
        },
        "id": "yZFvOdEOsBEh",
        "outputId": "aae506e9-1818-4066-821c-64f5e5a25657"
      },
      "id": "yZFvOdEOsBEh",
      "execution_count": null,
      "outputs": [
        {
          "output_type": "stream",
          "name": "stdout",
          "text": [
            "/content/AI-Studio-ClearML\n"
          ]
        }
      ]
    },
    {
      "cell_type": "code",
      "source": [
        "cd .."
      ],
      "metadata": {
        "colab": {
          "base_uri": "https://localhost:8080/"
        },
        "id": "JdNyx-W-NTqT",
        "outputId": "64c5343f-b0b3-4488-93c5-e2f92c9ad1e0"
      },
      "id": "JdNyx-W-NTqT",
      "execution_count": 48,
      "outputs": [
        {
          "output_type": "stream",
          "name": "stdout",
          "text": [
            "/content\n"
          ]
        }
      ]
    },
    {
      "cell_type": "code",
      "source": [
        "ls"
      ],
      "metadata": {
        "id": "MsypW31bdjmH",
        "colab": {
          "base_uri": "https://localhost:8080/"
        },
        "outputId": "3a6edf6e-02d3-4ad0-f883-609b538e1bd5"
      },
      "id": "MsypW31bdjmH",
      "execution_count": 39,
      "outputs": [
        {
          "output_type": "stream",
          "name": "stdout",
          "text": [
            "\u001b[0m\u001b[01;34mAI-Studio-ClearML\u001b[0m/\n"
          ]
        }
      ]
    },
    {
      "cell_type": "code",
      "source": [
        "rm -rf AI-Studio-ClearML"
      ],
      "metadata": {
        "id": "Q4M_5rqpCLxC"
      },
      "id": "Q4M_5rqpCLxC",
      "execution_count": 49,
      "outputs": []
    },
    {
      "cell_type": "code",
      "source": [
        "cd AI-Studio-ClearML/"
      ],
      "metadata": {
        "colab": {
          "base_uri": "https://localhost:8080/"
        },
        "id": "NAqBNH58sBId",
        "outputId": "f6fe87f0-9bfb-4acb-b511-a71d92c92e0d"
      },
      "id": "NAqBNH58sBId",
      "execution_count": 51,
      "outputs": [
        {
          "output_type": "stream",
          "name": "stdout",
          "text": [
            "/content/AI-Studio-ClearML\n"
          ]
        }
      ]
    },
    {
      "cell_type": "code",
      "source": [
        "ls"
      ],
      "metadata": {
        "colab": {
          "base_uri": "https://localhost:8080/"
        },
        "id": "ks-56-lasBK7",
        "outputId": "d7a0fd87-8430-4fdd-a9be-d836238622b8"
      },
      "id": "ks-56-lasBK7",
      "execution_count": 52,
      "outputs": [
        {
          "output_type": "stream",
          "name": "stdout",
          "text": [
            "AI-Studio-Agent.ipynb        main.py                 requirements.txt          s3_train_model.py\n",
            "AI-Studio-ClearML.ipynb      \u001b[0m\u001b[01;34mmodel_artifacts\u001b[0m/        s1_dataset_artifact.py    task_hpo.py\n",
            "ClearML_Pipeline_Demo.ipynb  pipeline_from_tasks.py  s2_data_preprocessing.py  \u001b[01;34mwork_dataset\u001b[0m/\n",
            "final_model.py               README.md               s2_process_dataset.py\n"
          ]
        }
      ]
    },
    {
      "cell_type": "code",
      "source": [
        "!pip install clearml"
      ],
      "metadata": {
        "colab": {
          "base_uri": "https://localhost:8080/"
        },
        "id": "MW7PLF2_sBNL",
        "outputId": "0eb6e5e5-0861-4d88-a5cf-6f76c2bfe814"
      },
      "id": "MW7PLF2_sBNL",
      "execution_count": null,
      "outputs": [
        {
          "output_type": "stream",
          "name": "stdout",
          "text": [
            "Requirement already satisfied: clearml in /usr/local/lib/python3.10/dist-packages (1.9.3)\n",
            "Requirement already satisfied: attrs>=18.0 in /usr/local/lib/python3.10/dist-packages (from clearml) (23.2.0)\n",
            "Requirement already satisfied: furl>=2.0.0 in /usr/local/lib/python3.10/dist-packages (from clearml) (2.1.4)\n",
            "Requirement already satisfied: jsonschema>=2.6.0 in /usr/local/lib/python3.10/dist-packages (from clearml) (4.23.0)\n",
            "Requirement already satisfied: numpy>=1.10 in /usr/local/lib/python3.10/dist-packages (from clearml) (1.26.4)\n",
            "Requirement already satisfied: pathlib2>=2.3.0 in /usr/local/lib/python3.10/dist-packages (from clearml) (2.3.7.post1)\n",
            "Requirement already satisfied: Pillow>=4.1.1 in /usr/local/lib/python3.10/dist-packages (from clearml) (11.1.0)\n",
            "Requirement already satisfied: psutil>=3.4.2 in /usr/local/lib/python3.10/dist-packages (from clearml) (5.9.5)\n",
            "Requirement already satisfied: pyparsing>=2.0.3 in /usr/local/lib/python3.10/dist-packages (from clearml) (3.0.9)\n",
            "Requirement already satisfied: python-dateutil>=2.6.1 in /usr/local/lib/python3.10/dist-packages (from clearml) (2.8.2)\n",
            "Requirement already satisfied: PyYAML>=3.12 in /usr/local/lib/python3.10/dist-packages (from clearml) (6.0.2)\n",
            "Requirement already satisfied: requests>=2.20.0 in /usr/local/lib/python3.10/dist-packages (from clearml) (2.31.0)\n",
            "Requirement already satisfied: six>=1.13.0 in /usr/local/lib/python3.10/dist-packages (from clearml) (1.16.0)\n",
            "Requirement already satisfied: urllib3>=1.21.1 in /usr/local/lib/python3.10/dist-packages (from clearml) (1.26.20)\n",
            "Requirement already satisfied: pyjwt<2.5.0,>=2.4.0 in /usr/local/lib/python3.10/dist-packages (from clearml) (2.4.0)\n",
            "Requirement already satisfied: orderedmultidict>=1.0.1 in /usr/local/lib/python3.10/dist-packages (from furl>=2.0.0->clearml) (1.0.1)\n",
            "Requirement already satisfied: jsonschema-specifications>=2023.03.6 in /usr/local/lib/python3.10/dist-packages (from jsonschema>=2.6.0->clearml) (2024.10.1)\n",
            "Requirement already satisfied: referencing>=0.28.4 in /usr/local/lib/python3.10/dist-packages (from jsonschema>=2.6.0->clearml) (0.35.1)\n",
            "Requirement already satisfied: rpds-py>=0.7.1 in /usr/local/lib/python3.10/dist-packages (from jsonschema>=2.6.0->clearml) (0.22.3)\n",
            "Requirement already satisfied: charset-normalizer<4,>=2 in /usr/local/lib/python3.10/dist-packages (from requests>=2.20.0->clearml) (3.4.1)\n",
            "Requirement already satisfied: idna<4,>=2.5 in /usr/local/lib/python3.10/dist-packages (from requests>=2.20.0->clearml) (3.10)\n",
            "Requirement already satisfied: certifi>=2017.4.17 in /usr/local/lib/python3.10/dist-packages (from requests>=2.20.0->clearml) (2024.12.14)\n"
          ]
        }
      ]
    },
    {
      "cell_type": "code",
      "source": [
        "!clearml-init"
      ],
      "metadata": {
        "colab": {
          "base_uri": "https://localhost:8080/"
        },
        "id": "fOKk9LibsBPN",
        "outputId": "082c60d8-5af7-4308-f303-4111c0cafafa"
      },
      "id": "fOKk9LibsBPN",
      "execution_count": null,
      "outputs": [
        {
          "output_type": "stream",
          "name": "stdout",
          "text": [
            "ClearML SDK setup process\n",
            "\n",
            "Please create new clearml credentials through the settings page in your `clearml-server` web app (e.g. http://localhost:8080//settings/workspace-configuration) \n",
            "Or create a free account at https://app.clear.ml/settings/workspace-configuration\n",
            "\n",
            "In settings page, press \"Create new credentials\", then press \"Copy to clipboard\".\n",
            "\n",
            "Paste copied configuration here:\n",
            "api {   # Zoe Lin's workspace   web_server: https://app.clear.ml/   api_server: https://api.clear.ml   files_server: https://files.clear.ml   credentials {     \"access_key\" = \"3UN9OLGB1CA4KBDMHS5MSV0FBOR3Q3\"     \"secret_key\" = \"wUY_AYEC7w64y69AF9RvDa5gRv4rjV1h3uzYaRMbllsQCqU-N3wX5ifADWvLASrkQAU\"   } }\n",
            "Detected credentials key=\"3UN9OLGB1CA4KBDMHS5MSV0FBOR3Q3\" secret=\"wUY_***\"\n",
            "\n",
            "ClearML Hosts configuration:\n",
            "Web App: https://app.clear.ml/\n",
            "API: https://api.clear.ml/\n",
            "File Store: https://files.clear.ml/\n",
            "\n",
            "Verifying credentials ...\n",
            "Credentials verified!\n",
            "\n",
            "New configuration stored in /root/clearml.conf\n",
            "ClearML setup completed successfully.\n"
          ]
        }
      ]
    },
    {
      "cell_type": "code",
      "source": [
        "!pip install -r requirements.txt"
      ],
      "metadata": {
        "colab": {
          "base_uri": "https://localhost:8080/",
          "height": 1000
        },
        "id": "A1e_ZdV-njR_",
        "outputId": "07f1c8a7-371f-4b0e-ec0d-b6b74aab1ed3"
      },
      "id": "A1e_ZdV-njR_",
      "execution_count": null,
      "outputs": [
        {
          "output_type": "stream",
          "name": "stdout",
          "text": [
            "Collecting clearml==1.9.3 (from -r requirements.txt (line 1))\n",
            "  Downloading clearml-1.9.3-py2.py3-none-any.whl.metadata (15 kB)\n",
            "Collecting urllib3==1.26.15 (from -r requirements.txt (line 2))\n",
            "  Downloading urllib3-1.26.15-py2.py3-none-any.whl.metadata (48 kB)\n",
            "\u001b[2K     \u001b[90m━━━━━━━━━━━━━━━━━━━━━━━━━━━━━━━━━━━━━━━━\u001b[0m \u001b[32m48.1/48.1 kB\u001b[0m \u001b[31m2.7 MB/s\u001b[0m eta \u001b[36m0:00:00\u001b[0m\n",
            "\u001b[?25hCollecting requests==2.31.0 (from -r requirements.txt (line 3))\n",
            "  Downloading requests-2.31.0-py3-none-any.whl.metadata (4.6 kB)\n",
            "Requirement already satisfied: scikit-learn>=1.3.0 in /usr/local/lib/python3.10/dist-packages (from -r requirements.txt (line 4)) (1.6.0)\n",
            "Requirement already satisfied: pandas>=2.0.0 in /usr/local/lib/python3.10/dist-packages (from -r requirements.txt (line 5)) (2.2.2)\n",
            "Collecting numpy==1.23.5 (from -r requirements.txt (line 6))\n",
            "  Downloading numpy-1.23.5-cp310-cp310-manylinux_2_17_x86_64.manylinux2014_x86_64.whl.metadata (2.3 kB)\n",
            "Collecting matplotlib==3.6.3 (from -r requirements.txt (line 7))\n",
            "  Downloading matplotlib-3.6.3-cp310-cp310-manylinux_2_17_x86_64.manylinux2014_x86_64.whl.metadata (6.8 kB)\n",
            "Collecting torch==2.0.1 (from -r requirements.txt (line 8))\n",
            "  Downloading torch-2.0.1-cp310-cp310-manylinux1_x86_64.whl.metadata (24 kB)\n",
            "Collecting torchvision==0.15.2 (from -r requirements.txt (line 9))\n",
            "  Downloading torchvision-0.15.2-cp310-cp310-manylinux1_x86_64.whl.metadata (11 kB)\n",
            "Collecting optuna==3.3.0 (from -r requirements.txt (line 10))\n",
            "  Downloading optuna-3.3.0-py3-none-any.whl.metadata (17 kB)\n",
            "Requirement already satisfied: attrs>=18.0 in /usr/local/lib/python3.10/dist-packages (from clearml==1.9.3->-r requirements.txt (line 1)) (24.3.0)\n",
            "Collecting furl>=2.0.0 (from clearml==1.9.3->-r requirements.txt (line 1))\n",
            "  Downloading furl-2.1.4-py2.py3-none-any.whl.metadata (25 kB)\n",
            "Requirement already satisfied: jsonschema>=2.6.0 in /usr/local/lib/python3.10/dist-packages (from clearml==1.9.3->-r requirements.txt (line 1)) (4.23.0)\n",
            "Collecting pathlib2>=2.3.0 (from clearml==1.9.3->-r requirements.txt (line 1))\n",
            "  Downloading pathlib2-2.3.7.post1-py2.py3-none-any.whl.metadata (3.5 kB)\n",
            "Requirement already satisfied: Pillow>=4.1.1 in /usr/local/lib/python3.10/dist-packages (from clearml==1.9.3->-r requirements.txt (line 1)) (11.1.0)\n",
            "Requirement already satisfied: psutil>=3.4.2 in /usr/local/lib/python3.10/dist-packages (from clearml==1.9.3->-r requirements.txt (line 1)) (5.9.5)\n",
            "Requirement already satisfied: pyparsing>=2.0.3 in /usr/local/lib/python3.10/dist-packages (from clearml==1.9.3->-r requirements.txt (line 1)) (3.2.1)\n",
            "Requirement already satisfied: python-dateutil>=2.6.1 in /usr/local/lib/python3.10/dist-packages (from clearml==1.9.3->-r requirements.txt (line 1)) (2.8.2)\n",
            "Requirement already satisfied: PyYAML>=3.12 in /usr/local/lib/python3.10/dist-packages (from clearml==1.9.3->-r requirements.txt (line 1)) (6.0.2)\n",
            "Requirement already satisfied: six>=1.13.0 in /usr/local/lib/python3.10/dist-packages (from clearml==1.9.3->-r requirements.txt (line 1)) (1.17.0)\n",
            "Collecting pyjwt<2.5.0,>=2.4.0 (from clearml==1.9.3->-r requirements.txt (line 1))\n",
            "  Downloading PyJWT-2.4.0-py3-none-any.whl.metadata (4.1 kB)\n",
            "Requirement already satisfied: charset-normalizer<4,>=2 in /usr/local/lib/python3.10/dist-packages (from requests==2.31.0->-r requirements.txt (line 3)) (3.4.1)\n",
            "Requirement already satisfied: idna<4,>=2.5 in /usr/local/lib/python3.10/dist-packages (from requests==2.31.0->-r requirements.txt (line 3)) (3.10)\n",
            "Requirement already satisfied: certifi>=2017.4.17 in /usr/local/lib/python3.10/dist-packages (from requests==2.31.0->-r requirements.txt (line 3)) (2024.12.14)\n",
            "Requirement already satisfied: contourpy>=1.0.1 in /usr/local/lib/python3.10/dist-packages (from matplotlib==3.6.3->-r requirements.txt (line 7)) (1.3.1)\n",
            "Requirement already satisfied: cycler>=0.10 in /usr/local/lib/python3.10/dist-packages (from matplotlib==3.6.3->-r requirements.txt (line 7)) (0.12.1)\n",
            "Requirement already satisfied: fonttools>=4.22.0 in /usr/local/lib/python3.10/dist-packages (from matplotlib==3.6.3->-r requirements.txt (line 7)) (4.55.3)\n",
            "Requirement already satisfied: kiwisolver>=1.0.1 in /usr/local/lib/python3.10/dist-packages (from matplotlib==3.6.3->-r requirements.txt (line 7)) (1.4.8)\n",
            "Requirement already satisfied: packaging>=20.0 in /usr/local/lib/python3.10/dist-packages (from matplotlib==3.6.3->-r requirements.txt (line 7)) (24.2)\n",
            "Requirement already satisfied: filelock in /usr/local/lib/python3.10/dist-packages (from torch==2.0.1->-r requirements.txt (line 8)) (3.16.1)\n",
            "Requirement already satisfied: typing-extensions in /usr/local/lib/python3.10/dist-packages (from torch==2.0.1->-r requirements.txt (line 8)) (4.12.2)\n",
            "Requirement already satisfied: sympy in /usr/local/lib/python3.10/dist-packages (from torch==2.0.1->-r requirements.txt (line 8)) (1.13.1)\n",
            "Requirement already satisfied: networkx in /usr/local/lib/python3.10/dist-packages (from torch==2.0.1->-r requirements.txt (line 8)) (3.4.2)\n",
            "Requirement already satisfied: jinja2 in /usr/local/lib/python3.10/dist-packages (from torch==2.0.1->-r requirements.txt (line 8)) (3.1.5)\n",
            "Collecting nvidia-cuda-nvrtc-cu11==11.7.99 (from torch==2.0.1->-r requirements.txt (line 8))\n",
            "  Downloading nvidia_cuda_nvrtc_cu11-11.7.99-2-py3-none-manylinux1_x86_64.whl.metadata (1.5 kB)\n",
            "Collecting nvidia-cuda-runtime-cu11==11.7.99 (from torch==2.0.1->-r requirements.txt (line 8))\n",
            "  Downloading nvidia_cuda_runtime_cu11-11.7.99-py3-none-manylinux1_x86_64.whl.metadata (1.6 kB)\n",
            "Collecting nvidia-cuda-cupti-cu11==11.7.101 (from torch==2.0.1->-r requirements.txt (line 8))\n",
            "  Downloading nvidia_cuda_cupti_cu11-11.7.101-py3-none-manylinux1_x86_64.whl.metadata (1.6 kB)\n",
            "Collecting nvidia-cudnn-cu11==8.5.0.96 (from torch==2.0.1->-r requirements.txt (line 8))\n",
            "  Downloading nvidia_cudnn_cu11-8.5.0.96-2-py3-none-manylinux1_x86_64.whl.metadata (1.6 kB)\n",
            "Collecting nvidia-cublas-cu11==11.10.3.66 (from torch==2.0.1->-r requirements.txt (line 8))\n",
            "  Downloading nvidia_cublas_cu11-11.10.3.66-py3-none-manylinux1_x86_64.whl.metadata (1.6 kB)\n",
            "Collecting nvidia-cufft-cu11==10.9.0.58 (from torch==2.0.1->-r requirements.txt (line 8))\n",
            "  Downloading nvidia_cufft_cu11-10.9.0.58-py3-none-manylinux2014_x86_64.whl.metadata (1.5 kB)\n",
            "Collecting nvidia-curand-cu11==10.2.10.91 (from torch==2.0.1->-r requirements.txt (line 8))\n",
            "  Downloading nvidia_curand_cu11-10.2.10.91-py3-none-manylinux1_x86_64.whl.metadata (1.6 kB)\n",
            "Collecting nvidia-cusolver-cu11==11.4.0.1 (from torch==2.0.1->-r requirements.txt (line 8))\n",
            "  Downloading nvidia_cusolver_cu11-11.4.0.1-2-py3-none-manylinux1_x86_64.whl.metadata (1.6 kB)\n",
            "Collecting nvidia-cusparse-cu11==11.7.4.91 (from torch==2.0.1->-r requirements.txt (line 8))\n",
            "  Downloading nvidia_cusparse_cu11-11.7.4.91-py3-none-manylinux1_x86_64.whl.metadata (1.6 kB)\n",
            "Collecting nvidia-nccl-cu11==2.14.3 (from torch==2.0.1->-r requirements.txt (line 8))\n",
            "  Downloading nvidia_nccl_cu11-2.14.3-py3-none-manylinux1_x86_64.whl.metadata (1.8 kB)\n",
            "Collecting nvidia-nvtx-cu11==11.7.91 (from torch==2.0.1->-r requirements.txt (line 8))\n",
            "  Downloading nvidia_nvtx_cu11-11.7.91-py3-none-manylinux1_x86_64.whl.metadata (1.7 kB)\n",
            "Collecting triton==2.0.0 (from torch==2.0.1->-r requirements.txt (line 8))\n",
            "  Downloading triton-2.0.0-1-cp310-cp310-manylinux2014_x86_64.manylinux_2_17_x86_64.whl.metadata (1.0 kB)\n",
            "Collecting alembic>=1.5.0 (from optuna==3.3.0->-r requirements.txt (line 10))\n",
            "  Downloading alembic-1.15.2-py3-none-any.whl.metadata (7.3 kB)\n",
            "Collecting cmaes>=0.10.0 (from optuna==3.3.0->-r requirements.txt (line 10))\n",
            "  Downloading cmaes-0.11.1-py3-none-any.whl.metadata (18 kB)\n",
            "Collecting colorlog (from optuna==3.3.0->-r requirements.txt (line 10))\n",
            "  Downloading colorlog-6.9.0-py3-none-any.whl.metadata (10 kB)\n",
            "Requirement already satisfied: sqlalchemy>=1.3.0 in /usr/local/lib/python3.10/dist-packages (from optuna==3.3.0->-r requirements.txt (line 10)) (2.0.36)\n",
            "Requirement already satisfied: tqdm in /usr/local/lib/python3.10/dist-packages (from optuna==3.3.0->-r requirements.txt (line 10)) (4.67.1)\n",
            "Requirement already satisfied: setuptools in /usr/local/lib/python3.10/dist-packages (from nvidia-cublas-cu11==11.10.3.66->torch==2.0.1->-r requirements.txt (line 8)) (69.5.1)\n",
            "Requirement already satisfied: wheel in /usr/local/lib/python3.10/dist-packages (from nvidia-cublas-cu11==11.10.3.66->torch==2.0.1->-r requirements.txt (line 8)) (0.45.1)\n",
            "Requirement already satisfied: cmake in /usr/local/lib/python3.10/dist-packages (from triton==2.0.0->torch==2.0.1->-r requirements.txt (line 8)) (3.31.2)\n",
            "Collecting lit (from triton==2.0.0->torch==2.0.1->-r requirements.txt (line 8))\n",
            "  Downloading lit-18.1.8-py3-none-any.whl.metadata (2.5 kB)\n",
            "Requirement already satisfied: scipy>=1.6.0 in /usr/local/lib/python3.10/dist-packages (from scikit-learn>=1.3.0->-r requirements.txt (line 4)) (1.13.1)\n",
            "Requirement already satisfied: joblib>=1.2.0 in /usr/local/lib/python3.10/dist-packages (from scikit-learn>=1.3.0->-r requirements.txt (line 4)) (1.4.2)\n",
            "Requirement already satisfied: threadpoolctl>=3.1.0 in /usr/local/lib/python3.10/dist-packages (from scikit-learn>=1.3.0->-r requirements.txt (line 4)) (3.5.0)\n",
            "Requirement already satisfied: pytz>=2020.1 in /usr/local/lib/python3.10/dist-packages (from pandas>=2.0.0->-r requirements.txt (line 5)) (2024.2)\n",
            "Requirement already satisfied: tzdata>=2022.7 in /usr/local/lib/python3.10/dist-packages (from pandas>=2.0.0->-r requirements.txt (line 5)) (2024.2)\n",
            "Collecting Mako (from alembic>=1.5.0->optuna==3.3.0->-r requirements.txt (line 10))\n",
            "  Downloading mako-1.3.10-py3-none-any.whl.metadata (2.9 kB)\n",
            "Collecting orderedmultidict>=1.0.1 (from furl>=2.0.0->clearml==1.9.3->-r requirements.txt (line 1))\n",
            "  Downloading orderedmultidict-1.0.1-py2.py3-none-any.whl.metadata (1.3 kB)\n",
            "Requirement already satisfied: jsonschema-specifications>=2023.03.6 in /usr/local/lib/python3.10/dist-packages (from jsonschema>=2.6.0->clearml==1.9.3->-r requirements.txt (line 1)) (2024.10.1)\n",
            "Requirement already satisfied: referencing>=0.28.4 in /usr/local/lib/python3.10/dist-packages (from jsonschema>=2.6.0->clearml==1.9.3->-r requirements.txt (line 1)) (0.35.1)\n",
            "Requirement already satisfied: rpds-py>=0.7.1 in /usr/local/lib/python3.10/dist-packages (from jsonschema>=2.6.0->clearml==1.9.3->-r requirements.txt (line 1)) (0.22.3)\n",
            "Requirement already satisfied: greenlet!=0.4.17 in /usr/local/lib/python3.10/dist-packages (from sqlalchemy>=1.3.0->optuna==3.3.0->-r requirements.txt (line 10)) (3.1.1)\n",
            "Requirement already satisfied: MarkupSafe>=2.0 in /usr/local/lib/python3.10/dist-packages (from jinja2->torch==2.0.1->-r requirements.txt (line 8)) (3.0.2)\n",
            "Requirement already satisfied: mpmath<1.4,>=1.1.0 in /usr/local/lib/python3.10/dist-packages (from sympy->torch==2.0.1->-r requirements.txt (line 8)) (1.3.0)\n",
            "Downloading clearml-1.9.3-py2.py3-none-any.whl (972 kB)\n",
            "\u001b[2K   \u001b[90m━━━━━━━━━━━━━━━━━━━━━━━━━━━━━━━━━━━━━━━━\u001b[0m \u001b[32m972.3/972.3 kB\u001b[0m \u001b[31m20.6 MB/s\u001b[0m eta \u001b[36m0:00:00\u001b[0m\n",
            "\u001b[?25hDownloading urllib3-1.26.15-py2.py3-none-any.whl (140 kB)\n",
            "\u001b[2K   \u001b[90m━━━━━━━━━━━━━━━━━━━━━━━━━━━━━━━━━━━━━━━━\u001b[0m \u001b[32m140.9/140.9 kB\u001b[0m \u001b[31m22.5 MB/s\u001b[0m eta \u001b[36m0:00:00\u001b[0m\n",
            "\u001b[?25hDownloading requests-2.31.0-py3-none-any.whl (62 kB)\n",
            "\u001b[2K   \u001b[90m━━━━━━━━━━━━━━━━━━━━━━━━━━━━━━━━━━━━━━━━\u001b[0m \u001b[32m62.6/62.6 kB\u001b[0m \u001b[31m9.8 MB/s\u001b[0m eta \u001b[36m0:00:00\u001b[0m\n",
            "\u001b[?25hDownloading numpy-1.23.5-cp310-cp310-manylinux_2_17_x86_64.manylinux2014_x86_64.whl (17.1 MB)\n",
            "\u001b[2K   \u001b[90m━━━━━━━━━━━━━━━━━━━━━━━━━━━━━━━━━━━━━━━━\u001b[0m \u001b[32m17.1/17.1 MB\u001b[0m \u001b[31m76.1 MB/s\u001b[0m eta \u001b[36m0:00:00\u001b[0m\n",
            "\u001b[?25hDownloading matplotlib-3.6.3-cp310-cp310-manylinux_2_17_x86_64.manylinux2014_x86_64.whl (11.8 MB)\n",
            "\u001b[2K   \u001b[90m━━━━━━━━━━━━━━━━━━━━━━━━━━━━━━━━━━━━━━━━\u001b[0m \u001b[32m11.8/11.8 MB\u001b[0m \u001b[31m118.4 MB/s\u001b[0m eta \u001b[36m0:00:00\u001b[0m\n",
            "\u001b[?25hDownloading torch-2.0.1-cp310-cp310-manylinux1_x86_64.whl (619.9 MB)\n",
            "\u001b[2K   \u001b[90m━━━━━━━━━━━━━━━━━━━━━━━━━━━━━━━━━━━━━━━━\u001b[0m \u001b[32m619.9/619.9 MB\u001b[0m \u001b[31m2.5 MB/s\u001b[0m eta \u001b[36m0:00:00\u001b[0m\n",
            "\u001b[?25hDownloading torchvision-0.15.2-cp310-cp310-manylinux1_x86_64.whl (6.0 MB)\n",
            "\u001b[2K   \u001b[90m━━━━━━━━━━━━━━━━━━━━━━━━━━━━━━━━━━━━━━━━\u001b[0m \u001b[32m6.0/6.0 MB\u001b[0m \u001b[31m121.7 MB/s\u001b[0m eta \u001b[36m0:00:00\u001b[0m\n",
            "\u001b[?25hDownloading optuna-3.3.0-py3-none-any.whl (404 kB)\n",
            "\u001b[2K   \u001b[90m━━━━━━━━━━━━━━━━━━━━━━━━━━━━━━━━━━━━━━━━\u001b[0m \u001b[32m404.2/404.2 kB\u001b[0m \u001b[31m36.8 MB/s\u001b[0m eta \u001b[36m0:00:00\u001b[0m\n",
            "\u001b[?25hDownloading nvidia_cublas_cu11-11.10.3.66-py3-none-manylinux1_x86_64.whl (317.1 MB)\n",
            "\u001b[2K   \u001b[90m━━━━━━━━━━━━━━━━━━━━━━━━━━━━━━━━━━━━━━━━\u001b[0m \u001b[32m317.1/317.1 MB\u001b[0m \u001b[31m6.7 MB/s\u001b[0m eta \u001b[36m0:00:00\u001b[0m\n",
            "\u001b[?25hDownloading nvidia_cuda_cupti_cu11-11.7.101-py3-none-manylinux1_x86_64.whl (11.8 MB)\n",
            "\u001b[2K   \u001b[90m━━━━━━━━━━━━━━━━━━━━━━━━━━━━━━━━━━━━━━━━\u001b[0m \u001b[32m11.8/11.8 MB\u001b[0m \u001b[31m120.1 MB/s\u001b[0m eta \u001b[36m0:00:00\u001b[0m\n",
            "\u001b[?25hDownloading nvidia_cuda_nvrtc_cu11-11.7.99-2-py3-none-manylinux1_x86_64.whl (21.0 MB)\n",
            "\u001b[2K   \u001b[90m━━━━━━━━━━━━━━━━━━━━━━━━━━━━━━━━━━━━━━━━\u001b[0m \u001b[32m21.0/21.0 MB\u001b[0m \u001b[31m97.2 MB/s\u001b[0m eta \u001b[36m0:00:00\u001b[0m\n",
            "\u001b[?25hDownloading nvidia_cuda_runtime_cu11-11.7.99-py3-none-manylinux1_x86_64.whl (849 kB)\n",
            "\u001b[2K   \u001b[90m━━━━━━━━━━━━━━━━━━━━━━━━━━━━━━━━━━━━━━━━\u001b[0m \u001b[32m849.3/849.3 kB\u001b[0m \u001b[31m72.8 MB/s\u001b[0m eta \u001b[36m0:00:00\u001b[0m\n",
            "\u001b[?25hDownloading nvidia_cudnn_cu11-8.5.0.96-2-py3-none-manylinux1_x86_64.whl (557.1 MB)\n",
            "\u001b[2K   \u001b[90m━━━━━━━━━━━━━━━━━━━━━━━━━━━━━━━━━━━━━━━━\u001b[0m \u001b[32m557.1/557.1 MB\u001b[0m \u001b[31m2.9 MB/s\u001b[0m eta \u001b[36m0:00:00\u001b[0m\n",
            "\u001b[?25hDownloading nvidia_cufft_cu11-10.9.0.58-py3-none-manylinux2014_x86_64.whl (168.4 MB)\n",
            "\u001b[2K   \u001b[90m━━━━━━━━━━━━━━━━━━━━━━━━━━━━━━━━━━━━━━━━\u001b[0m \u001b[32m168.4/168.4 MB\u001b[0m \u001b[31m12.8 MB/s\u001b[0m eta \u001b[36m0:00:00\u001b[0m\n",
            "\u001b[?25hDownloading nvidia_curand_cu11-10.2.10.91-py3-none-manylinux1_x86_64.whl (54.6 MB)\n",
            "\u001b[2K   \u001b[90m━━━━━━━━━━━━━━━━━━━━━━━━━━━━━━━━━━━━━━━━\u001b[0m \u001b[32m54.6/54.6 MB\u001b[0m \u001b[31m40.9 MB/s\u001b[0m eta \u001b[36m0:00:00\u001b[0m\n",
            "\u001b[?25hDownloading nvidia_cusolver_cu11-11.4.0.1-2-py3-none-manylinux1_x86_64.whl (102.6 MB)\n",
            "\u001b[2K   \u001b[90m━━━━━━━━━━━━━━━━━━━━━━━━━━━━━━━━━━━━━━━━\u001b[0m \u001b[32m102.6/102.6 MB\u001b[0m \u001b[31m20.9 MB/s\u001b[0m eta \u001b[36m0:00:00\u001b[0m\n",
            "\u001b[?25hDownloading nvidia_cusparse_cu11-11.7.4.91-py3-none-manylinux1_x86_64.whl (173.2 MB)\n",
            "\u001b[2K   \u001b[90m━━━━━━━━━━━━━━━━━━━━━━━━━━━━━━━━━━━━━━━━\u001b[0m \u001b[32m173.2/173.2 MB\u001b[0m \u001b[31m5.4 MB/s\u001b[0m eta \u001b[36m0:00:00\u001b[0m\n",
            "\u001b[?25hDownloading nvidia_nccl_cu11-2.14.3-py3-none-manylinux1_x86_64.whl (177.1 MB)\n",
            "\u001b[2K   \u001b[90m━━━━━━━━━━━━━━━━━━━━━━━━━━━━━━━━━━━━━━━━\u001b[0m \u001b[32m177.1/177.1 MB\u001b[0m \u001b[31m11.7 MB/s\u001b[0m eta \u001b[36m0:00:00\u001b[0m\n",
            "\u001b[?25hDownloading nvidia_nvtx_cu11-11.7.91-py3-none-manylinux1_x86_64.whl (98 kB)\n",
            "\u001b[2K   \u001b[90m━━━━━━━━━━━━━━━━━━━━━━━━━━━━━━━━━━━━━━━━\u001b[0m \u001b[32m98.6/98.6 kB\u001b[0m \u001b[31m17.4 MB/s\u001b[0m eta \u001b[36m0:00:00\u001b[0m\n",
            "\u001b[?25hDownloading triton-2.0.0-1-cp310-cp310-manylinux2014_x86_64.manylinux_2_17_x86_64.whl (63.3 MB)\n",
            "\u001b[2K   \u001b[90m━━━━━━━━━━━━━━━━━━━━━━━━━━━━━━━━━━━━━━━━\u001b[0m \u001b[32m63.3/63.3 MB\u001b[0m \u001b[31m31.9 MB/s\u001b[0m eta \u001b[36m0:00:00\u001b[0m\n",
            "\u001b[?25hDownloading alembic-1.15.2-py3-none-any.whl (231 kB)\n",
            "\u001b[2K   \u001b[90m━━━━━━━━━━━━━━━━━━━━━━━━━━━━━━━━━━━━━━━━\u001b[0m \u001b[32m231.9/231.9 kB\u001b[0m \u001b[31m33.4 MB/s\u001b[0m eta \u001b[36m0:00:00\u001b[0m\n",
            "\u001b[?25hDownloading cmaes-0.11.1-py3-none-any.whl (35 kB)\n",
            "Downloading furl-2.1.4-py2.py3-none-any.whl (27 kB)\n",
            "Downloading pathlib2-2.3.7.post1-py2.py3-none-any.whl (18 kB)\n",
            "Downloading PyJWT-2.4.0-py3-none-any.whl (18 kB)\n",
            "Downloading colorlog-6.9.0-py3-none-any.whl (11 kB)\n",
            "Downloading orderedmultidict-1.0.1-py2.py3-none-any.whl (11 kB)\n",
            "Downloading lit-18.1.8-py3-none-any.whl (96 kB)\n",
            "\u001b[2K   \u001b[90m━━━━━━━━━━━━━━━━━━━━━━━━━━━━━━━━━━━━━━━━\u001b[0m \u001b[32m96.4/96.4 kB\u001b[0m \u001b[31m15.0 MB/s\u001b[0m eta \u001b[36m0:00:00\u001b[0m\n",
            "\u001b[?25hDownloading mako-1.3.10-py3-none-any.whl (78 kB)\n",
            "\u001b[2K   \u001b[90m━━━━━━━━━━━━━━━━━━━━━━━━━━━━━━━━━━━━━━━━\u001b[0m \u001b[32m78.5/78.5 kB\u001b[0m \u001b[31m13.4 MB/s\u001b[0m eta \u001b[36m0:00:00\u001b[0m\n",
            "\u001b[?25hInstalling collected packages: lit, urllib3, pyjwt, pathlib2, orderedmultidict, nvidia-nvtx-cu11, nvidia-nccl-cu11, nvidia-cusparse-cu11, nvidia-curand-cu11, nvidia-cufft-cu11, nvidia-cuda-runtime-cu11, nvidia-cuda-nvrtc-cu11, nvidia-cuda-cupti-cu11, nvidia-cublas-cu11, numpy, Mako, colorlog, requests, nvidia-cusolver-cu11, nvidia-cudnn-cu11, furl, cmaes, alembic, optuna, matplotlib, clearml, triton, torch, torchvision\n",
            "  Attempting uninstall: urllib3\n",
            "    Found existing installation: urllib3 2.3.0\n",
            "    Uninstalling urllib3-2.3.0:\n",
            "      Successfully uninstalled urllib3-2.3.0\n",
            "  Attempting uninstall: pyjwt\n",
            "    Found existing installation: PyJWT 2.10.1\n",
            "    Uninstalling PyJWT-2.10.1:\n",
            "      Successfully uninstalled PyJWT-2.10.1\n",
            "  Attempting uninstall: numpy\n",
            "    Found existing installation: numpy 1.26.4\n",
            "    Uninstalling numpy-1.26.4:\n",
            "      Successfully uninstalled numpy-1.26.4\n",
            "  Attempting uninstall: requests\n",
            "    Found existing installation: requests 2.32.3\n",
            "    Uninstalling requests-2.32.3:\n",
            "      Successfully uninstalled requests-2.32.3\n",
            "  Attempting uninstall: matplotlib\n",
            "    Found existing installation: matplotlib 3.10.0\n",
            "    Uninstalling matplotlib-3.10.0:\n",
            "      Successfully uninstalled matplotlib-3.10.0\n",
            "  Attempting uninstall: torch\n",
            "    Found existing installation: torch 2.5.1+cu121\n",
            "    Uninstalling torch-2.5.1+cu121:\n",
            "      Successfully uninstalled torch-2.5.1+cu121\n",
            "  Attempting uninstall: torchvision\n",
            "    Found existing installation: torchvision 0.20.1+cu121\n",
            "    Uninstalling torchvision-0.20.1+cu121:\n",
            "      Successfully uninstalled torchvision-0.20.1+cu121\n",
            "\u001b[31mERROR: pip's dependency resolver does not currently take into account all the packages that are installed. This behaviour is the source of the following dependency conflicts.\n",
            "albucore 0.0.19 requires numpy>=1.24.4, but you have numpy 1.23.5 which is incompatible.\n",
            "albumentations 1.4.20 requires numpy>=1.24.4, but you have numpy 1.23.5 which is incompatible.\n",
            "bigframes 1.42.0 requires matplotlib>=3.7.1, but you have matplotlib 3.6.3 which is incompatible.\n",
            "bigframes 1.42.0 requires numpy>=1.24.0, but you have numpy 1.23.5 which is incompatible.\n",
            "chex 0.1.88 requires numpy>=1.24.1, but you have numpy 1.23.5 which is incompatible.\n",
            "firebase-admin 6.6.0 requires pyjwt[crypto]>=2.5.0, but you have pyjwt 2.4.0 which is incompatible.\n",
            "google-colab 1.0.0 requires requests==2.32.3, but you have requests 2.31.0 which is incompatible.\n",
            "google-genai 1.11.0 requires anyio<5.0.0,>=4.8.0, but you have anyio 3.7.1 which is incompatible.\n",
            "imbalanced-learn 0.13.0 requires numpy<3,>=1.24.3, but you have numpy 1.23.5 which is incompatible.\n",
            "jax 0.4.33 requires numpy>=1.24, but you have numpy 1.23.5 which is incompatible.\n",
            "jaxlib 0.4.33 requires numpy>=1.24, but you have numpy 1.23.5 which is incompatible.\n",
            "plotnine 0.14.5 requires matplotlib>=3.8.0, but you have matplotlib 3.6.3 which is incompatible.\n",
            "pymc 5.19.1 requires numpy>=1.25.0, but you have numpy 1.23.5 which is incompatible.\n",
            "scikit-image 0.25.0 requires numpy>=1.24, but you have numpy 1.23.5 which is incompatible.\n",
            "torchaudio 2.5.1+cu121 requires torch==2.5.1, but you have torch 2.0.1 which is incompatible.\n",
            "xarray 2025.1.0 requires numpy>=1.24, but you have numpy 1.23.5 which is incompatible.\u001b[0m\u001b[31m\n",
            "\u001b[0mSuccessfully installed Mako-1.3.10 alembic-1.15.2 clearml-1.9.3 cmaes-0.11.1 colorlog-6.9.0 furl-2.1.4 lit-18.1.8 matplotlib-3.6.3 numpy-1.23.5 nvidia-cublas-cu11-11.10.3.66 nvidia-cuda-cupti-cu11-11.7.101 nvidia-cuda-nvrtc-cu11-11.7.99 nvidia-cuda-runtime-cu11-11.7.99 nvidia-cudnn-cu11-8.5.0.96 nvidia-cufft-cu11-10.9.0.58 nvidia-curand-cu11-10.2.10.91 nvidia-cusolver-cu11-11.4.0.1 nvidia-cusparse-cu11-11.7.4.91 nvidia-nccl-cu11-2.14.3 nvidia-nvtx-cu11-11.7.91 optuna-3.3.0 orderedmultidict-1.0.1 pathlib2-2.3.7.post1 pyjwt-2.4.0 requests-2.31.0 torch-2.0.1 torchvision-0.15.2 triton-2.0.0 urllib3-1.26.15\n"
          ]
        },
        {
          "output_type": "display_data",
          "data": {
            "application/vnd.colab-display-data+json": {
              "pip_warning": {
                "packages": [
                  "matplotlib",
                  "mpl_toolkits",
                  "numpy"
                ]
              },
              "id": "dbbd360e89d34861a8a3a0ba7c5bbac3"
            }
          },
          "metadata": {}
        }
      ]
    },
    {
      "cell_type": "code",
      "source": [
        "!python s1_dataset_artifact.py"
      ],
      "metadata": {
        "colab": {
          "base_uri": "https://localhost:8080/"
        },
        "id": "Yti93S8XsBTI",
        "outputId": "53b550f5-48ce-4639-9185-076d08ee0ee4"
      },
      "id": "Yti93S8XsBTI",
      "execution_count": 53,
      "outputs": [
        {
          "output_type": "stream",
          "name": "stdout",
          "text": [
            "ClearML Task: created new task id=42ca3b02f66b41cbba8ec1f9b89645eb\n",
            "CLEARML new package available: UPGRADE to v1.18.0 is recommended!\n",
            "Release Notes:\n",
            "### New Features and Bug Fixes\n",
            "\n",
            "- Add support for IP overriding with `CLEARML_AGENT_HOST_IP` environment variable\n",
            "- Add port mapping support (requires `clearml-agent` v2.0 and up)\n",
            "- Fix bug in plotly histogram, single series labels were shown incorrectly\n",
            "- Fix adding dataset folder with modified files will upload all files instead of just the modified ones\n",
            "- Fix detecting git branch in detached HEAD state\n",
            "- Fix issue with A100 GPU monitoring\n",
            "- Fix syntax warnings with Python 3.12 (#1369)\n",
            "2025-05-09 17:53:43.435239: I tensorflow/core/util/port.cc:153] oneDNN custom operations are on. You may see slightly different numerical results due to floating-point round-off errors from different computation orders. To turn them off, set the environment variable `TF_ENABLE_ONEDNN_OPTS=0`.\n",
            "2025-05-09 17:53:43.459179: E external/local_xla/xla/stream_executor/cuda/cuda_fft.cc:485] Unable to register cuFFT factory: Attempting to register factory for plugin cuFFT when one has already been registered\n",
            "2025-05-09 17:53:43.482471: E external/local_xla/xla/stream_executor/cuda/cuda_dnn.cc:8454] Unable to register cuDNN factory: Attempting to register factory for plugin cuDNN when one has already been registered\n",
            "2025-05-09 17:53:43.489291: E external/local_xla/xla/stream_executor/cuda/cuda_blas.cc:1452] Unable to register cuBLAS factory: Attempting to register factory for plugin cuBLAS when one has already been registered\n",
            "2025-05-09 17:53:43.507271: I tensorflow/core/platform/cpu_feature_guard.cc:210] This TensorFlow binary is optimized to use available CPU instructions in performance-critical operations.\n",
            "To enable the following instructions: AVX2 AVX512F AVX512_VNNI FMA, in other operations, rebuild TensorFlow with the appropriate compiler flags.\n",
            "2025-05-09 17:53:44.743336: W tensorflow/compiler/tf2tensorrt/utils/py_utils.cc:38] TF-TRT Warning: Could not find TensorRT\n",
            "ClearML results page: https://app.clear.ml/projects/91194938511a4a1aaf058dfe076ed82e/experiments/42ca3b02f66b41cbba8ec1f9b89645eb/output/log\n",
            "Terminating local execution process\n"
          ]
        }
      ]
    },
    {
      "cell_type": "code",
      "source": [
        "#!python s2_data_preprocessing.py\n",
        "!python s2_process_dataset.py"
      ],
      "metadata": {
        "colab": {
          "base_uri": "https://localhost:8080/"
        },
        "id": "dn2PH1bQuCW6",
        "outputId": "e08bd91e-e0eb-43fb-cabd-f1674d391508"
      },
      "id": "dn2PH1bQuCW6",
      "execution_count": 54,
      "outputs": [
        {
          "output_type": "stream",
          "name": "stdout",
          "text": [
            "ClearML Task: created new task id=d9b57918a2744531b737af17379ef653\n",
            "CLEARML new package available: UPGRADE to v1.18.0 is recommended!\n",
            "Release Notes:\n",
            "### New Features and Bug Fixes\n",
            "\n",
            "- Add support for IP overriding with `CLEARML_AGENT_HOST_IP` environment variable\n",
            "- Add port mapping support (requires `clearml-agent` v2.0 and up)\n",
            "- Fix bug in plotly histogram, single series labels were shown incorrectly\n",
            "- Fix adding dataset folder with modified files will upload all files instead of just the modified ones\n",
            "- Fix detecting git branch in detached HEAD state\n",
            "- Fix issue with A100 GPU monitoring\n",
            "- Fix syntax warnings with Python 3.12 (#1369)\n",
            "2025-05-09 17:54:08.884136: I tensorflow/core/util/port.cc:153] oneDNN custom operations are on. You may see slightly different numerical results due to floating-point round-off errors from different computation orders. To turn them off, set the environment variable `TF_ENABLE_ONEDNN_OPTS=0`.\n",
            "2025-05-09 17:54:08.903591: E external/local_xla/xla/stream_executor/cuda/cuda_fft.cc:485] Unable to register cuFFT factory: Attempting to register factory for plugin cuFFT when one has already been registered\n",
            "2025-05-09 17:54:08.925380: E external/local_xla/xla/stream_executor/cuda/cuda_dnn.cc:8454] Unable to register cuDNN factory: Attempting to register factory for plugin cuDNN when one has already been registered\n",
            "2025-05-09 17:54:08.931905: E external/local_xla/xla/stream_executor/cuda/cuda_blas.cc:1452] Unable to register cuBLAS factory: Attempting to register factory for plugin cuBLAS when one has already been registered\n",
            "2025-05-09 17:54:08.948386: I tensorflow/core/platform/cpu_feature_guard.cc:210] This TensorFlow binary is optimized to use available CPU instructions in performance-critical operations.\n",
            "To enable the following instructions: AVX2 AVX512F AVX512_VNNI FMA, in other operations, rebuild TensorFlow with the appropriate compiler flags.\n",
            "2025-05-09 17:54:10.500069: W tensorflow/compiler/tf2tensorrt/utils/py_utils.cc:38] TF-TRT Warning: Could not find TensorRT\n",
            "ClearML results page: https://app.clear.ml/projects/91194938511a4a1aaf058dfe076ed82e/experiments/d9b57918a2744531b737af17379ef653/output/log\n",
            "Terminating local execution process\n"
          ]
        }
      ]
    },
    {
      "cell_type": "code",
      "source": [
        "!python task_hpo.py"
      ],
      "metadata": {
        "colab": {
          "base_uri": "https://localhost:8080/"
        },
        "id": "45upDPrsnELe",
        "outputId": "ff963e56-7e58-49a5-8a43-22a1fc742bfe"
      },
      "id": "45upDPrsnELe",
      "execution_count": 55,
      "outputs": [
        {
          "output_type": "stream",
          "name": "stdout",
          "text": [
            "ClearML Task: created new task id=d05c2fcb34a8440aac3c80eb07b05542\n",
            "CLEARML new package available: UPGRADE to v1.18.0 is recommended!\n",
            "Release Notes:\n",
            "### New Features and Bug Fixes\n",
            "\n",
            "- Add support for IP overriding with `CLEARML_AGENT_HOST_IP` environment variable\n",
            "- Add port mapping support (requires `clearml-agent` v2.0 and up)\n",
            "- Fix bug in plotly histogram, single series labels were shown incorrectly\n",
            "- Fix adding dataset folder with modified files will upload all files instead of just the modified ones\n",
            "- Fix detecting git branch in detached HEAD state\n",
            "- Fix issue with A100 GPU monitoring\n",
            "- Fix syntax warnings with Python 3.12 (#1369)\n",
            "2025-05-09 17:54:33.847010: I tensorflow/core/util/port.cc:153] oneDNN custom operations are on. You may see slightly different numerical results due to floating-point round-off errors from different computation orders. To turn them off, set the environment variable `TF_ENABLE_ONEDNN_OPTS=0`.\n",
            "2025-05-09 17:54:33.871262: E external/local_xla/xla/stream_executor/cuda/cuda_fft.cc:485] Unable to register cuFFT factory: Attempting to register factory for plugin cuFFT when one has already been registered\n",
            "2025-05-09 17:54:33.894362: E external/local_xla/xla/stream_executor/cuda/cuda_dnn.cc:8454] Unable to register cuDNN factory: Attempting to register factory for plugin cuDNN when one has already been registered\n",
            "2025-05-09 17:54:33.901102: E external/local_xla/xla/stream_executor/cuda/cuda_blas.cc:1452] Unable to register cuBLAS factory: Attempting to register factory for plugin cuBLAS when one has already been registered\n",
            "2025-05-09 17:54:33.919730: I tensorflow/core/platform/cpu_feature_guard.cc:210] This TensorFlow binary is optimized to use available CPU instructions in performance-critical operations.\n",
            "To enable the following instructions: AVX2 AVX512F AVX512_VNNI FMA, in other operations, rebuild TensorFlow with the appropriate compiler flags.\n",
            "2025-05-09 17:54:35.498689: W tensorflow/compiler/tf2tensorrt/utils/py_utils.cc:38] TF-TRT Warning: Could not find TensorRT\n",
            "ClearML results page: https://app.clear.ml/projects/91194938511a4a1aaf058dfe076ed82e/experiments/d05c2fcb34a8440aac3c80eb07b05542/output/log\n",
            "INFO:__main__:Connected parameters: {'base_train_task_id': '8b3f72f435704677abe4e27323d3eba3', 'num_trials': 10, 'time_limit_minutes': 60, 'run_as_service': False, 'test_queue': 'pipeline', 'processed_dataset_id': '99e286d358754697a37ad75c279a6f0a', 'num_epochs': 50, 'batch_size': 32, 'learning_rate': 0.001, 'weight_decay': 1e-05}\n",
            "Terminating local execution process\n"
          ]
        }
      ]
    },
    {
      "cell_type": "code",
      "source": [
        "!python s3_train_model.py"
      ],
      "metadata": {
        "colab": {
          "base_uri": "https://localhost:8080/"
        },
        "id": "vAY3ayM8uCg3",
        "outputId": "334ba149-0c77-4266-aa3d-5ef08f485f88"
      },
      "id": "vAY3ayM8uCg3",
      "execution_count": 56,
      "outputs": [
        {
          "output_type": "stream",
          "name": "stdout",
          "text": [
            "ClearML Task: created new task id=684569239aa34ed69348c3c8908d532e\n",
            "CLEARML new package available: UPGRADE to v1.18.0 is recommended!\n",
            "Release Notes:\n",
            "### New Features and Bug Fixes\n",
            "\n",
            "- Add support for IP overriding with `CLEARML_AGENT_HOST_IP` environment variable\n",
            "- Add port mapping support (requires `clearml-agent` v2.0 and up)\n",
            "- Fix bug in plotly histogram, single series labels were shown incorrectly\n",
            "- Fix adding dataset folder with modified files will upload all files instead of just the modified ones\n",
            "- Fix detecting git branch in detached HEAD state\n",
            "- Fix issue with A100 GPU monitoring\n",
            "- Fix syntax warnings with Python 3.12 (#1369)\n",
            "2025-05-09 17:54:57.305219: I tensorflow/core/util/port.cc:153] oneDNN custom operations are on. You may see slightly different numerical results due to floating-point round-off errors from different computation orders. To turn them off, set the environment variable `TF_ENABLE_ONEDNN_OPTS=0`.\n",
            "2025-05-09 17:54:57.326350: E external/local_xla/xla/stream_executor/cuda/cuda_fft.cc:485] Unable to register cuFFT factory: Attempting to register factory for plugin cuFFT when one has already been registered\n",
            "2025-05-09 17:54:57.348216: E external/local_xla/xla/stream_executor/cuda/cuda_dnn.cc:8454] Unable to register cuDNN factory: Attempting to register factory for plugin cuDNN when one has already been registered\n",
            "2025-05-09 17:54:57.354779: E external/local_xla/xla/stream_executor/cuda/cuda_blas.cc:1452] Unable to register cuBLAS factory: Attempting to register factory for plugin cuBLAS when one has already been registered\n",
            "2025-05-09 17:54:57.371112: I tensorflow/core/platform/cpu_feature_guard.cc:210] This TensorFlow binary is optimized to use available CPU instructions in performance-critical operations.\n",
            "To enable the following instructions: AVX2 AVX512F AVX512_VNNI FMA, in other operations, rebuild TensorFlow with the appropriate compiler flags.\n",
            "2025-05-09 17:54:58.930731: W tensorflow/compiler/tf2tensorrt/utils/py_utils.cc:38] TF-TRT Warning: Could not find TensorRT\n",
            "ClearML results page: https://app.clear.ml/projects/91194938511a4a1aaf058dfe076ed82e/experiments/684569239aa34ed69348c3c8908d532e/output/log\n",
            "INFO:__main__:Connected parameters: {'processed_dataset_id': '', 'test_queue': 'pipeline', 'num_epochs': 20, 'batch_size': 16, 'learning_rate': 0.001, 'weight_decay': 1e-05}\n",
            "Terminating local execution process\n"
          ]
        }
      ]
    },
    {
      "cell_type": "code",
      "source": [
        "!python final_model.py"
      ],
      "metadata": {
        "colab": {
          "base_uri": "https://localhost:8080/"
        },
        "id": "d9yp4AyJLvuD",
        "outputId": "d80899a4-cf2e-442c-a681-e1b7908c3cc0"
      },
      "id": "d9yp4AyJLvuD",
      "execution_count": 57,
      "outputs": [
        {
          "output_type": "stream",
          "name": "stdout",
          "text": [
            "ClearML Task: created new task id=92146bde508341f1a64aecff2107a5cd\n",
            "CLEARML new package available: UPGRADE to v1.18.0 is recommended!\n",
            "Release Notes:\n",
            "### New Features and Bug Fixes\n",
            "\n",
            "- Add support for IP overriding with `CLEARML_AGENT_HOST_IP` environment variable\n",
            "- Add port mapping support (requires `clearml-agent` v2.0 and up)\n",
            "- Fix bug in plotly histogram, single series labels were shown incorrectly\n",
            "- Fix adding dataset folder with modified files will upload all files instead of just the modified ones\n",
            "- Fix detecting git branch in detached HEAD state\n",
            "- Fix issue with A100 GPU monitoring\n",
            "- Fix syntax warnings with Python 3.12 (#1369)\n",
            "2025-05-09 17:55:22.051413: I tensorflow/core/util/port.cc:153] oneDNN custom operations are on. You may see slightly different numerical results due to floating-point round-off errors from different computation orders. To turn them off, set the environment variable `TF_ENABLE_ONEDNN_OPTS=0`.\n",
            "2025-05-09 17:55:22.071345: E external/local_xla/xla/stream_executor/cuda/cuda_fft.cc:485] Unable to register cuFFT factory: Attempting to register factory for plugin cuFFT when one has already been registered\n",
            "2025-05-09 17:55:22.093682: E external/local_xla/xla/stream_executor/cuda/cuda_dnn.cc:8454] Unable to register cuDNN factory: Attempting to register factory for plugin cuDNN when one has already been registered\n",
            "2025-05-09 17:55:22.100418: E external/local_xla/xla/stream_executor/cuda/cuda_blas.cc:1452] Unable to register cuBLAS factory: Attempting to register factory for plugin cuBLAS when one has already been registered\n",
            "2025-05-09 17:55:22.117162: I tensorflow/core/platform/cpu_feature_guard.cc:210] This TensorFlow binary is optimized to use available CPU instructions in performance-critical operations.\n",
            "To enable the following instructions: AVX2 AVX512F AVX512_VNNI FMA, in other operations, rebuild TensorFlow with the appropriate compiler flags.\n",
            "2025-05-09 17:55:23.692376: W tensorflow/compiler/tf2tensorrt/utils/py_utils.cc:38] TF-TRT Warning: Could not find TensorRT\n",
            "ClearML results page: https://app.clear.ml/projects/91194938511a4a1aaf058dfe076ed82e/experiments/92146bde508341f1a64aecff2107a5cd/output/log\n",
            "INFO:__main__:Connected parameters: {'processed_dataset_id': '', 'hpo_task_id': '', 'test_queue': 'pipeline', 'num_epochs': 50, 'batch_size': 32, 'learning_rate': 0.001, 'weight_decay': 1e-05}\n",
            "Terminating local execution process\n"
          ]
        }
      ]
    },
    {
      "cell_type": "code",
      "source": [
        "ls"
      ],
      "metadata": {
        "colab": {
          "base_uri": "https://localhost:8080/"
        },
        "id": "E1o1KyZPAxik",
        "outputId": "465db99b-233e-434f-ca37-bf32bf402f09"
      },
      "id": "E1o1KyZPAxik",
      "execution_count": null,
      "outputs": [
        {
          "output_type": "stream",
          "name": "stdout",
          "text": [
            "ClearML_Pipeline_Demo.ipynb      \u001b[0m\u001b[01;34mmodel_artifacts\u001b[0m/           step2_data_preprocessing.py\n",
            "demo_functions.py                pipeline_from_tasks.py     step3_train_model.py\n",
            "demo_using_artifacts_example.py  README.md                  \u001b[01;34mwork_dataset\u001b[0m/\n",
            "main.py                          step1_dataset_artifact.py\n"
          ]
        }
      ]
    },
    {
      "cell_type": "code",
      "source": [
        "!pip show numpy"
      ],
      "metadata": {
        "id": "kvGx0JGhuCiy",
        "colab": {
          "base_uri": "https://localhost:8080/"
        },
        "outputId": "67982380-cc9b-4c49-98f7-b68b8846fe1a"
      },
      "id": "kvGx0JGhuCiy",
      "execution_count": null,
      "outputs": [
        {
          "output_type": "stream",
          "name": "stdout",
          "text": [
            "Name: numpy\n",
            "Version: 1.24.4\n",
            "Summary: Fundamental package for array computing in Python\n",
            "Home-page: https://www.numpy.org\n",
            "Author: Travis E. Oliphant et al.\n",
            "Author-email: \n",
            "License: BSD-3-Clause\n",
            "Location: /usr/local/lib/python3.10/dist-packages\n",
            "Requires: \n",
            "Required-by: accelerate, albucore, albumentations, arviz, astropy, autograd, bigframes, blis, blosc2, bokeh, Bottleneck, bqplot, chex, clarabel, clearml, cmdstanpy, contourpy, cudf-cu12, cufflinks, cupy-cuda12x, cvxpy, datascience, db-dtypes, diffusers, dopamine_rl, folium, geemap, gensim, geopandas, gym, h5py, holoviews, hyperopt, ibis-framework, imageio, imbalanced-learn, imgaug, jax, jaxlib, keras, langchain, librosa, lightgbm, matplotlib, matplotlib-venn, missingno, mizani, ml-dtypes, mlxtend, moviepy, music21, nibabel, numba, numexpr, nx-cugraph-cu12, opencv-contrib-python, opencv-python, opencv-python-headless, optax, optuna, orbax-checkpoint, osqp, pandas, pandas-gbq, pandas-stubs, patsy, peft, plotnine, prophet, pyarrow, pycocotools, pyerfa, pylibraft-cu12, pymc, pyogrio, pytensor, python-louvain, qdldl, rmm-cu12, scikit-image, scikit-learn, scipy, scs, seaborn, shap, shapely, sklearn-pandas, soundfile, soxr, spacy, spanner-graph-notebook, stanio, statsmodels, tables, tensorboard, tensorflow, tensorflow-datasets, tensorflow-hub, tensorflow-probability, tensorstore, thinc, tifffile, torchvision, transformers, wordcloud, xarray, xarray-einstats, xgboost, yellowbrick, yfinance\n"
          ]
        }
      ]
    },
    {
      "cell_type": "code",
      "source": [
        "!python main.py"
      ],
      "metadata": {
        "id": "KHNoCjYuuCkr",
        "colab": {
          "base_uri": "https://localhost:8080/"
        },
        "outputId": "bb467f7b-d9aa-474f-8872-7dbffa6fa8de"
      },
      "id": "KHNoCjYuuCkr",
      "execution_count": 47,
      "outputs": [
        {
          "output_type": "stream",
          "name": "stdout",
          "text": [
            "Hi, AI Studio\n",
            "ClearML Task: created new task id=760d571a24bd432dbdf24cbccc2a5fd2\n",
            "CLEARML new package available: UPGRADE to v1.18.0 is recommended!\n",
            "Release Notes:\n",
            "### New Features and Bug Fixes\n",
            "\n",
            "- Add support for IP overriding with `CLEARML_AGENT_HOST_IP` environment variable\n",
            "- Add port mapping support (requires `clearml-agent` v2.0 and up)\n",
            "- Fix bug in plotly histogram, single series labels were shown incorrectly\n",
            "- Fix adding dataset folder with modified files will upload all files instead of just the modified ones\n",
            "- Fix detecting git branch in detached HEAD state\n",
            "- Fix issue with A100 GPU monitoring\n",
            "- Fix syntax warnings with Python 3.12 (#1369)\n",
            "2025-05-09 13:45:35.364698: I tensorflow/core/util/port.cc:153] oneDNN custom operations are on. You may see slightly different numerical results due to floating-point round-off errors from different computation orders. To turn them off, set the environment variable `TF_ENABLE_ONEDNN_OPTS=0`.\n",
            "2025-05-09 13:45:35.390728: E external/local_xla/xla/stream_executor/cuda/cuda_fft.cc:485] Unable to register cuFFT factory: Attempting to register factory for plugin cuFFT when one has already been registered\n",
            "2025-05-09 13:45:35.416512: E external/local_xla/xla/stream_executor/cuda/cuda_dnn.cc:8454] Unable to register cuDNN factory: Attempting to register factory for plugin cuDNN when one has already been registered\n",
            "2025-05-09 13:45:35.424415: E external/local_xla/xla/stream_executor/cuda/cuda_blas.cc:1452] Unable to register cuBLAS factory: Attempting to register factory for plugin cuBLAS when one has already been registered\n",
            "2025-05-09 13:45:35.444293: I tensorflow/core/platform/cpu_feature_guard.cc:210] This TensorFlow binary is optimized to use available CPU instructions in performance-critical operations.\n",
            "To enable the following instructions: AVX2 AVX512F AVX512_VNNI FMA, in other operations, rebuild TensorFlow with the appropriate compiler flags.\n",
            "2025-05-09 13:45:36.729648: W tensorflow/compiler/tf2tensorrt/utils/py_utils.cc:38] TF-TRT Warning: Could not find TensorRT\n",
            "ClearML results page: https://app.clear.ml/projects/a36060934d9c4af6b2a1c3cafd9c0d92/experiments/760d571a24bd432dbdf24cbccc2a5fd2/output/log\n",
            "ClearML pipeline page: https://app.clear.ml/pipelines/a36060934d9c4af6b2a1c3cafd9c0d92/experiments/760d571a24bd432dbdf24cbccc2a5fd2\n",
            "INFO:pipeline_from_tasks:Set default execution queue to: pipeline\n",
            "INFO:pipeline_from_tasks:Starting pipeline locally with tasks on queue: pipeline\n",
            "2025-05-09 13:45:44,705 - clearml.automation.controller - INFO - Node \"stage_hpo\" missing parent reference, adding: {'stage_data', 'stage_train'}\n",
            "Launching the next 1 steps\n",
            "Launching step [stage_data]\n",
            "Launching step: stage_data\n",
            "Parameters:\n",
            "None\n",
            "Configurations:\n",
            "{}\n",
            "Overrides:\n",
            "{}\n",
            "Launching the next 1 steps\n",
            "Launching step [stage_process]\n",
            "Launching step: stage_process\n",
            "Parameters:\n",
            "{'General/dataset_task_id': '${stage_data.id}', 'General/test_size': 0.25, 'General/random_state': 42}\n",
            "Configurations:\n",
            "{}\n",
            "Overrides:\n",
            "{}\n",
            "Launching the next 1 steps\n",
            "Launching step [stage_train]\n",
            "Launching step: stage_train\n",
            "Parameters:\n",
            "{'General/processed_dataset_id': '${stage_process.parameters.General/processed_dataset_id}', 'General/test_queue': 'pipeline', 'General/num_epochs': 20, 'General/batch_size': 16, 'General/learning_rate': 0.001, 'General/weight_decay': 1e-05}\n",
            "Configurations:\n",
            "{}\n",
            "Overrides:\n",
            "{}\n",
            "Launching the next 1 steps\n",
            "Launching step [stage_hpo]\n",
            "Launching step: stage_hpo\n",
            "Parameters:\n",
            "{'General/processed_dataset_id': '${stage_process.parameters.General/processed_dataset_id}', 'General/test_queue': 'pipeline', 'General/num_trials': 10, 'General/time_limit_minutes': 60, 'General/run_as_service': False, 'General/dataset_task_id': '${stage_data.id}', 'General/base_train_task_id': '${stage_train.id}'}\n",
            "Configurations:\n",
            "{}\n",
            "Overrides:\n",
            "{}\n",
            "Launching the next 0 steps\n",
            "INFO:pipeline_from_tasks:Pipeline started successfully\n"
          ]
        }
      ]
    },
    {
      "cell_type": "code",
      "source": [],
      "metadata": {
        "id": "tXtFYDHbuCm4"
      },
      "id": "tXtFYDHbuCm4",
      "execution_count": null,
      "outputs": []
    },
    {
      "cell_type": "code",
      "source": [],
      "metadata": {
        "id": "l4CA0xbRuCow"
      },
      "id": "l4CA0xbRuCow",
      "execution_count": null,
      "outputs": []
    }
  ],
  "metadata": {
    "kernelspec": {
      "display_name": "Python 3",
      "language": "python",
      "name": "python3"
    },
    "language_info": {
      "codemirror_mode": {
        "name": "ipython",
        "version": 3
      },
      "file_extension": ".py",
      "mimetype": "text/x-python",
      "name": "python",
      "nbconvert_exporter": "python",
      "pygments_lexer": "ipython3",
      "version": "3.10.10"
    },
    "colab": {
      "provenance": [],
      "name": "AI-Studio-ClearML",
      "gpuType": "L4"
    },
    "accelerator": "GPU"
  },
  "nbformat": 4,
  "nbformat_minor": 5
}